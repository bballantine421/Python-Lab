{
 "cells": [
  {
   "cell_type": "code",
   "execution_count": 1,
   "id": "b1600662",
   "metadata": {},
   "outputs": [
    {
     "name": "stdout",
     "output_type": "stream",
     "text": [
      "c =  205.2\n"
     ]
    }
   ],
   "source": [
    "import numpy as np\n",
    "\n",
    "def fred(a,b):\n",
    "    c = ( a + b ) * 12\n",
    "    return c\n",
    "\n",
    "a = 13.2\n",
    "b = 3.9\n",
    "c = fred(a,b)\n",
    "print (\"c = \",c)"
   ]
  },
  {
   "cell_type": "code",
   "execution_count": 2,
   "id": "bd48cdd7",
   "metadata": {},
   "outputs": [
    {
     "name": "stdout",
     "output_type": "stream",
     "text": [
      "2.5238858928247927\n"
     ]
    }
   ],
   "source": [
    "def rule3(dA,dB):\n",
    "    dQ = np.sqrt(dA**2+dB**2)\n",
    "    return dQ\n",
    "\n",
    "dA = 1.4\n",
    "dB = 2.1\n",
    "\n",
    "dQ = rule3(dA,dB)\n",
    "print (dQ)"
   ]
  },
  {
   "cell_type": "code",
   "execution_count": 4,
   "id": "feb2d003",
   "metadata": {},
   "outputs": [
    {
     "name": "stdout",
     "output_type": "stream",
     "text": [
      "[3.   3.3  3.6  2.7  2.55]\n",
      "[ 9.     10.89   12.96    7.29    6.5025]\n",
      "1.01 0.05727128425310541\n"
     ]
    }
   ],
   "source": [
    "x = np.array([1, 1.1,1.2,0.9,0.85])\n",
    "y = x*3\n",
    "print (y)\n",
    "ysq = y**2\n",
    "print (ysq)\n",
    "\n",
    "err_x = np.std(x)/np.sqrt(5)\n",
    "avgx = np.average(x)\n",
    "print(avgx,err_x)"
   ]
  },
  {
   "cell_type": "markdown",
   "id": "6bd29f00",
   "metadata": {},
   "source": [
    "$\\delta F = g\\delta m$"
   ]
  },
  {
   "cell_type": "markdown",
   "id": "3770c52a",
   "metadata": {},
   "source": [
    "$\\delta Q = \\sqrt{(\\delta A)^2 + (\\delta B)^2}$"
   ]
  },
  {
   "cell_type": "markdown",
   "id": "1020c326",
   "metadata": {},
   "source": [
    "$\\frac{\\delta A}{A}$"
   ]
  },
  {
   "cell_type": "markdown",
   "id": "4c16d360",
   "metadata": {},
   "source": [
    "# Rule 1 Function"
   ]
  },
  {
   "cell_type": "code",
   "execution_count": 6,
   "id": "8eb769de",
   "metadata": {},
   "outputs": [
    {
     "name": "stdout",
     "output_type": "stream",
     "text": [
      "21\n"
     ]
    }
   ],
   "source": [
    "def rule1(c,dA):\n",
    "    dQ = c*dA\n",
    "    return dQ\n",
    "\n",
    "c = 3\n",
    "dA = 7\n",
    "\n",
    "dQ = rule1(c,dA)\n",
    "print (dQ)"
   ]
  },
  {
   "cell_type": "markdown",
   "id": "56343def",
   "metadata": {},
   "source": [
    "# Rule 2 Function"
   ]
  },
  {
   "cell_type": "code",
   "execution_count": 12,
   "id": "f48b7840",
   "metadata": {},
   "outputs": [
    {
     "name": "stdout",
     "output_type": "stream",
     "text": [
      "38.75\n"
     ]
    }
   ],
   "source": [
    "def rule2(c,m,A,dA):\n",
    "    dQ = c * m * ((A)**m-1) * dA\n",
    "    return dQ\n",
    "\n",
    "c = 2\n",
    "m = -5\n",
    "A = 2\n",
    "dA = 4\n",
    "\n",
    "dQ = rule2(c,m,A,dA)\n",
    "print (dQ)"
   ]
  },
  {
   "cell_type": "markdown",
   "id": "252d7b94",
   "metadata": {},
   "source": [
    "# Rule 3 Function"
   ]
  },
  {
   "cell_type": "code",
   "execution_count": 13,
   "id": "e53fe991",
   "metadata": {},
   "outputs": [
    {
     "name": "stdout",
     "output_type": "stream",
     "text": [
      "10.868762579061151\n"
     ]
    }
   ],
   "source": [
    "def rule3(dA,dB):\n",
    "    dQ = np.sqrt(dA**2+dB**2)\n",
    "    return dQ\n",
    "\n",
    "dA = 4.7\n",
    "dB = 9.8\n",
    "\n",
    "dQ = rule3(dA,dB)\n",
    "print (dQ)"
   ]
  },
  {
   "cell_type": "markdown",
   "id": "4f8e4609",
   "metadata": {},
   "source": [
    "# Rule 4 Function"
   ]
  },
  {
   "cell_type": "code",
   "execution_count": 22,
   "id": "3fdbc143",
   "metadata": {},
   "outputs": [
    {
     "name": "stdout",
     "output_type": "stream",
     "text": [
      "0.011123819496927314\n"
     ]
    }
   ],
   "source": [
    "def rule4(Q,A,m,dA,B,n,dB):\n",
    "    dQ = Q*np.sqrt((((m*dA)/A)**2)+((n*dB)/(b))**2)\n",
    "    return dQ\n",
    "\n",
    "Q = 3.53\n",
    "A = 1.588\n",
    "m = 1\n",
    "dA = .005\n",
    "B = .989\n",
    "n = -.5\n",
    "dB = .001\n",
    "\n",
    "dQ = rule4(Q,A,m,dA,B,n,dB)\n",
    "print (dQ)"
   ]
  },
  {
   "cell_type": "markdown",
   "id": "7fa54f49",
   "metadata": {},
   "source": [
    "###### This is the same error in velocity as I found in my calculations."
   ]
  },
  {
   "cell_type": "markdown",
   "id": "df24fbcf",
   "metadata": {},
   "source": [
    "# "
   ]
  },
  {
   "cell_type": "code",
   "execution_count": 24,
   "id": "598a671b",
   "metadata": {},
   "outputs": [
    {
     "name": "stdout",
     "output_type": "stream",
     "text": [
      "1.1166666666666667 0.073282810879294\n"
     ]
    }
   ],
   "source": [
    "x = np.array ([1.1,1.3,1.4,0.9,0.95,1.05])\n",
    "avgx = np.average(x)\n",
    "err_x = np.std(x)/np.sqrt(6)\n",
    "\n",
    "print(avgx,err_x)"
   ]
  },
  {
   "cell_type": "markdown",
   "id": "24e0a4da",
   "metadata": {},
   "source": [
    "##### The average of these values is equal to 1.12 respectively and the error in x is equat to 0.07 respectively."
   ]
  },
  {
   "cell_type": "markdown",
   "id": "405df2ad",
   "metadata": {},
   "source": [
    "# Rule 3 Equation"
   ]
  },
  {
   "cell_type": "markdown",
   "id": "5cd09e72",
   "metadata": {},
   "source": [
    "$\\delta Q = \\sqrt{(\\delta A)^2 + (\\delta B)^2}$"
   ]
  },
  {
   "cell_type": "markdown",
   "id": "4831740a",
   "metadata": {},
   "source": [
    "# Rule 4 Equation"
   ]
  },
  {
   "cell_type": "markdown",
   "id": "39894166",
   "metadata": {},
   "source": [
    "$\\frac{\\delta Q}{Q} = \\sqrt{(\\frac{m*(\\delta A)}{A})^2 + (\\frac{n*(\\delta B)}{B})^2}$"
   ]
  },
  {
   "cell_type": "code",
   "execution_count": null,
   "id": "2b3d282a",
   "metadata": {},
   "outputs": [],
   "source": []
  }
 ],
 "metadata": {
  "kernelspec": {
   "display_name": "Python 3 (ipykernel)",
   "language": "python",
   "name": "python3"
  },
  "language_info": {
   "codemirror_mode": {
    "name": "ipython",
    "version": 3
   },
   "file_extension": ".py",
   "mimetype": "text/x-python",
   "name": "python",
   "nbconvert_exporter": "python",
   "pygments_lexer": "ipython3",
   "version": "3.9.12"
  }
 },
 "nbformat": 4,
 "nbformat_minor": 5
}
